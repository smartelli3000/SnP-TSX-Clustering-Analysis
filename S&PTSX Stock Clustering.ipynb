{
 "cells": [
  {
   "cell_type": "code",
   "execution_count": 3,
   "id": "abbcaaeb",
   "metadata": {},
   "outputs": [],
   "source": [
    "import pandas as pd\n",
    "from yahoo_fin.stock_info import get_quote_data"
   ]
  },
  {
   "cell_type": "code",
   "execution_count": 4,
   "id": "de83a838",
   "metadata": {},
   "outputs": [
    {
     "data": {
      "text/plain": [
       "{'language': 'en-US',\n",
       " 'region': 'US',\n",
       " 'quoteType': 'EQUITY',\n",
       " 'quoteSourceName': 'Delayed Quote',\n",
       " 'triggerable': True,\n",
       " 'currency': 'CAD',\n",
       " 'marketState': 'CLOSED',\n",
       " 'trailingAnnualDividendRate': 1.24,\n",
       " 'trailingPE': 32.08738,\n",
       " 'trailingAnnualDividendYield': 0.012387613,\n",
       " 'epsTrailingTwelveMonths': 3.09,\n",
       " 'epsForward': 4.32,\n",
       " 'epsCurrentYear': 3.76,\n",
       " 'priceEpsCurrentYear': 26.36968,\n",
       " 'sharesOutstanding': 82474704,\n",
       " 'bookValue': 20.596,\n",
       " 'fiftyDayAverage': 94.619705,\n",
       " 'fiftyDayAverageChange': 4.5302963,\n",
       " 'fiftyDayAverageChangePercent': 0.047878996,\n",
       " 'twoHundredDayAverage': 90.18211,\n",
       " 'twoHundredDayAverageChange': 8.967888,\n",
       " 'twoHundredDayAverageChangePercent': 0.09944198,\n",
       " 'marketCap': 8172419072,\n",
       " 'forwardPE': 22.951387,\n",
       " 'priceToBook': 4.8140416,\n",
       " 'sourceInterval': 15,\n",
       " 'exchangeDataDelayedBy': 15,\n",
       " 'averageAnalystRating': '2.2 - Buy',\n",
       " 'tradeable': False,\n",
       " 'regularMarketVolume': 61281,\n",
       " 'firstTradeDateMilliseconds': 839943000000,\n",
       " 'priceHint': 2,\n",
       " 'regularMarketChange': -0.94999695,\n",
       " 'regularMarketChangePercent': -0.94904786,\n",
       " 'regularMarketTime': 1619208000,\n",
       " 'regularMarketPrice': 99.15,\n",
       " 'regularMarketDayHigh': 100.71,\n",
       " 'regularMarketDayRange': '98.98 - 100.71',\n",
       " 'regularMarketDayLow': 98.98,\n",
       " 'regularMarketPreviousClose': 100.1,\n",
       " 'bid': 98.12,\n",
       " 'ask': 101.0,\n",
       " 'bidSize': 0,\n",
       " 'askSize': 0,\n",
       " 'fullExchangeName': 'Toronto',\n",
       " 'financialCurrency': 'CAD',\n",
       " 'regularMarketOpen': 100.57,\n",
       " 'averageDailyVolume3Month': 154092,\n",
       " 'averageDailyVolume10Day': 100400,\n",
       " 'fiftyTwoWeekLowChange': 38.06,\n",
       " 'fiftyTwoWeekLowChangePercent': 0.6230152,\n",
       " 'fiftyTwoWeekRange': '61.09 - 100.71',\n",
       " 'fiftyTwoWeekHighChange': -1.5599976,\n",
       " 'fiftyTwoWeekHighChangePercent': -0.015489996,\n",
       " 'fiftyTwoWeekLow': 61.09,\n",
       " 'fiftyTwoWeekHigh': 100.71,\n",
       " 'dividendDate': 1617235200,\n",
       " 'earningsTimestamp': 1620158400,\n",
       " 'earningsTimestampStart': 1620158400,\n",
       " 'earningsTimestampEnd': 1620158400,\n",
       " 'exchange': 'TOR',\n",
       " 'shortName': 'TOROMONT IND',\n",
       " 'longName': 'Toromont Industries Ltd.',\n",
       " 'messageBoardId': 'finmb_873897',\n",
       " 'exchangeTimezoneName': 'America/Toronto',\n",
       " 'exchangeTimezoneShortName': 'EDT',\n",
       " 'gmtOffSetMilliseconds': -14400000,\n",
       " 'market': 'ca_market',\n",
       " 'esgPopulated': False,\n",
       " 'symbol': 'TIH.TO'}"
      ]
     },
     "execution_count": 4,
     "metadata": {},
     "output_type": "execute_result"
    }
   ],
   "source": [
    "get_quote_data('TIH.TO')"
   ]
  }
 ],
 "metadata": {
  "kernelspec": {
   "display_name": "TSXStockClustering",
   "language": "python",
   "name": "tsxstockclustering"
  },
  "language_info": {
   "codemirror_mode": {
    "name": "ipython",
    "version": 3
   },
   "file_extension": ".py",
   "mimetype": "text/x-python",
   "name": "python",
   "nbconvert_exporter": "python",
   "pygments_lexer": "ipython3",
   "version": "3.9.4"
  }
 },
 "nbformat": 4,
 "nbformat_minor": 5
}
