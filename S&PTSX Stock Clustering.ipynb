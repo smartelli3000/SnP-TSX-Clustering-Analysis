{
 "cells": [
  {
   "cell_type": "markdown",
   "id": "2ec8c078",
   "metadata": {},
   "source": [
    "# Stock Clustering Analysis"
   ]
  },
  {
   "cell_type": "markdown",
   "id": "72a2552b",
   "metadata": {},
   "source": [
    "### Importing the required libraries"
   ]
  },
  {
   "cell_type": "code",
   "execution_count": 1,
   "id": "c867c600",
   "metadata": {},
   "outputs": [],
   "source": [
    "import pandas as pd\n",
    "from yahoo_fin.stock_info import get_quote_data"
   ]
  },
  {
   "cell_type": "markdown",
   "id": "61321d63",
   "metadata": {},
   "source": [
    "## Importing the required data"
   ]
  },
  {
   "cell_type": "markdown",
   "id": "9442b2b1",
   "metadata": {},
   "source": [
    "### S&P/TSX Company tickers list"
   ]
  },
  {
   "cell_type": "code",
   "execution_count": 13,
   "id": "2ab55e6d",
   "metadata": {},
   "outputs": [],
   "source": [
    "# Reading the S&P/TSX companies csv file.\n",
    "tsx_names = pd.read_csv('SnP_TSX_Companies_List.csv', squeeze=True)\n",
    "\n",
    "# Adding '.TO' to the ending of each ticker to ensure all currency information received comes in CND.\n",
    "TO = '.TO'\n",
    "\n",
    "tsx_names_TO = []\n",
    "for ticker in tsx_names:\n",
    "    tsx_names_TO.append(str(ticker) + TO)\n",
    "    \n",
    "tsx_names = pd.Series(tsx_names_TO)"
   ]
  },
  {
   "cell_type": "markdown",
   "id": "f5887cc0",
   "metadata": {},
   "source": [
    "### Gathering quote data from companies"
   ]
  },
  {
   "cell_type": "code",
   "execution_count": 90,
   "id": "b6f58146",
   "metadata": {},
   "outputs": [
    {
     "data": {
      "text/html": [
       "<div>\n",
       "<style scoped>\n",
       "    .dataframe tbody tr th:only-of-type {\n",
       "        vertical-align: middle;\n",
       "    }\n",
       "\n",
       "    .dataframe tbody tr th {\n",
       "        vertical-align: top;\n",
       "    }\n",
       "\n",
       "    .dataframe thead th {\n",
       "        text-align: right;\n",
       "    }\n",
       "</style>\n",
       "<table border=\"1\" class=\"dataframe\">\n",
       "  <thead>\n",
       "    <tr style=\"text-align: right;\">\n",
       "      <th></th>\n",
       "      <th>language</th>\n",
       "      <th>region</th>\n",
       "      <th>quoteType</th>\n",
       "      <th>quoteSourceName</th>\n",
       "      <th>triggerable</th>\n",
       "      <th>currency</th>\n",
       "      <th>tradeable</th>\n",
       "      <th>firstTradeDateMilliseconds</th>\n",
       "      <th>priceHint</th>\n",
       "      <th>regularMarketChange</th>\n",
       "      <th>...</th>\n",
       "      <th>twoHundredDayAverage</th>\n",
       "      <th>twoHundredDayAverageChange</th>\n",
       "      <th>twoHundredDayAverageChangePercent</th>\n",
       "      <th>marketCap</th>\n",
       "      <th>forwardPE</th>\n",
       "      <th>priceToBook</th>\n",
       "      <th>sourceInterval</th>\n",
       "      <th>exchangeDataDelayedBy</th>\n",
       "      <th>averageAnalystRating</th>\n",
       "      <th>symbol</th>\n",
       "    </tr>\n",
       "  </thead>\n",
       "  <tbody>\n",
       "    <tr>\n",
       "      <th>TIH.TO</th>\n",
       "      <td>en-US</td>\n",
       "      <td>US</td>\n",
       "      <td>EQUITY</td>\n",
       "      <td>Real Time Price</td>\n",
       "      <td>True</td>\n",
       "      <td>CAD</td>\n",
       "      <td>False</td>\n",
       "      <td>839943000000</td>\n",
       "      <td>2</td>\n",
       "      <td>0.049995</td>\n",
       "      <td>...</td>\n",
       "      <td>90.37287</td>\n",
       "      <td>8.407127</td>\n",
       "      <td>0.093027</td>\n",
       "      <td>8146851328</td>\n",
       "      <td>22.86574</td>\n",
       "      <td>4.796077</td>\n",
       "      <td>15</td>\n",
       "      <td>15</td>\n",
       "      <td>2.2 - Buy</td>\n",
       "      <td>TIH.TO</td>\n",
       "    </tr>\n",
       "  </tbody>\n",
       "</table>\n",
       "<p>1 rows × 70 columns</p>\n",
       "</div>"
      ],
      "text/plain": [
       "       language region quoteType  quoteSourceName  triggerable currency  \\\n",
       "TIH.TO    en-US     US    EQUITY  Real Time Price         True      CAD   \n",
       "\n",
       "        tradeable  firstTradeDateMilliseconds  priceHint  regularMarketChange  \\\n",
       "TIH.TO      False                839943000000          2             0.049995   \n",
       "\n",
       "        ...  twoHundredDayAverage  twoHundredDayAverageChange  \\\n",
       "TIH.TO  ...              90.37287                    8.407127   \n",
       "\n",
       "        twoHundredDayAverageChangePercent   marketCap forwardPE  priceToBook  \\\n",
       "TIH.TO                           0.093027  8146851328  22.86574     4.796077   \n",
       "\n",
       "        sourceInterval  exchangeDataDelayedBy  averageAnalystRating  symbol  \n",
       "TIH.TO              15                     15             2.2 - Buy  TIH.TO  \n",
       "\n",
       "[1 rows x 70 columns]"
      ]
     },
     "execution_count": 90,
     "metadata": {},
     "output_type": "execute_result"
    }
   ],
   "source": [
    "dict = get_quote_data('TIH.TO')\n",
    "df = pd.DataFrame(dict, index=['TIH.TO'])\n",
    "df\n",
    "\n",
    "\n",
    "# df[['epsCurrentYear','sharesOutstanding']]  # This works for selecting columns\n",
    "\n",
    "### Whats next?\n",
    "### Now loop this with all the tickers, and add them as a new instance into a DataFrame."
   ]
  },
  {
   "cell_type": "code",
   "execution_count": null,
   "id": "d4282353",
   "metadata": {},
   "outputs": [],
   "source": [
    "tsx_df = pd.DataFrame(tsx_dict, columns=list_of_features, index=[0])\n",
    "tsx_df"
   ]
  }
 ],
 "metadata": {
  "kernelspec": {
   "display_name": "TSXStockClustering",
   "language": "python",
   "name": "tsxstockclustering"
  },
  "language_info": {
   "codemirror_mode": {
    "name": "ipython",
    "version": 3
   },
   "file_extension": ".py",
   "mimetype": "text/x-python",
   "name": "python",
   "nbconvert_exporter": "python",
   "pygments_lexer": "ipython3",
   "version": "3.9.4"
  }
 },
 "nbformat": 4,
 "nbformat_minor": 5
}
