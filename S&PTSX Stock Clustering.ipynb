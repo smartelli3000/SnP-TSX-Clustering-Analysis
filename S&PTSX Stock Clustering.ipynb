{
 "cells": [
  {
   "cell_type": "markdown",
   "id": "72a2552b",
   "metadata": {},
   "source": [
    "### Importing the required libraries"
   ]
  },
  {
   "cell_type": "code",
   "execution_count": 1,
   "id": "c867c600",
   "metadata": {},
   "outputs": [],
   "source": [
    "import pandas as pd\n",
    "from yahoo_fin.stock_info import get_quote_data"
   ]
  },
  {
   "cell_type": "markdown",
   "id": "61321d63",
   "metadata": {},
   "source": [
    "## Importing the required data"
   ]
  },
  {
   "cell_type": "markdown",
   "id": "9c6f8710",
   "metadata": {},
   "source": [
    "### S&P/TSX Company tickers list"
   ]
  },
  {
   "cell_type": "code",
   "execution_count": 10,
   "id": "2ab55e6d",
   "metadata": {},
   "outputs": [],
   "source": [
    "# Reading the S&P/TSX companies csv file.\n",
    "tsx_names = pd.read_csv('SnP_TSX_Companies_List.csv', squeeze=True)\n",
    "\n",
    "# Adding '.TO' to the ending of each ticker to ensure all currency information received comes in CND.\n",
    "TO = '.TO'\n",
    "\n",
    "tsx_names_TO = []\n",
    "for ticker in tsx_names:\n",
    "    tsx_names_TO.append(str(ticker) + TO)\n",
    "    \n",
    "tsx_names = pd.Series(tsx_names_TO)"
   ]
  },
  {
   "cell_type": "markdown",
   "id": "f16ee70f",
   "metadata": {},
   "source": [
    "### Gathering quote data from companies"
   ]
  },
  {
   "cell_type": "code",
   "execution_count": null,
   "id": "ad3fac71",
   "metadata": {},
   "outputs": [],
   "source": [
    "list_of_features = ['epsCurrentYear','sharesOutstanding','fiftyDayAverageChangePercent','marketCap','regularMarketChangePercent','regularMarketPrice','regularMarketVolume','averageDailyVolume3Month','trailingAnnualDividendRate','trailingPE', 'symbol']\n",
    "tsx_dict = get_quote_data('TIH.TO')"
   ]
  },
  {
   "cell_type": "code",
   "execution_count": null,
   "id": "d4282353",
   "metadata": {},
   "outputs": [],
   "source": [
    "tsx_df = pd.DataFrame(tsx_dict, columns=list_of_features, index=[0])\n",
    "tsx_df"
   ]
  },
  {
   "cell_type": "code",
   "execution_count": null,
   "id": "f39bdbcd",
   "metadata": {},
   "outputs": [],
   "source": []
  }
 ],
 "metadata": {
  "kernelspec": {
   "display_name": "TSXStockClustering",
   "language": "python",
   "name": "tsxstockclustering"
  },
  "language_info": {
   "codemirror_mode": {
    "name": "ipython",
    "version": 3
   },
   "file_extension": ".py",
   "mimetype": "text/x-python",
   "name": "python",
   "nbconvert_exporter": "python",
   "pygments_lexer": "ipython3",
   "version": "3.9.4"
  }
 },
 "nbformat": 4,
 "nbformat_minor": 5
}
