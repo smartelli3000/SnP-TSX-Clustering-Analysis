{
 "cells": [
  {
   "cell_type": "markdown",
   "id": "8e1fdd7e",
   "metadata": {},
   "source": [
    "# Stock Clustering Analysis"
   ]
  },
  {
   "cell_type": "markdown",
   "id": "72a2552b",
   "metadata": {},
   "source": [
    "### Importing the required libraries"
   ]
  },
  {
   "cell_type": "code",
   "execution_count": 1,
   "id": "c867c600",
   "metadata": {},
   "outputs": [],
   "source": [
    "import re\n",
    "import pandas as pd\n",
    "from yahoo_fin.stock_info import get_quote_data"
   ]
  },
  {
   "cell_type": "markdown",
   "id": "61321d63",
   "metadata": {},
   "source": [
    "## Importing the required data"
   ]
  },
  {
   "cell_type": "markdown",
   "id": "bc6ee706",
   "metadata": {},
   "source": [
    "### S&P/TSX Company tickers list"
   ]
  },
  {
   "cell_type": "code",
   "execution_count": 3,
   "id": "ece8a6e6",
   "metadata": {},
   "outputs": [],
   "source": [
    "# Reading the S&P/TSX companies csv file.\n",
    "tsx_names = pd.read_csv('SnP_TSX_Companies_List.csv', squeeze=True)\n",
    "\n",
    "# Replacing all the '.' into '-' for notation purposes. (yahoos systemes use the '-')\n",
    "for ticker in range(len(tsx_names)):\n",
    "    if '.' in str(tsx_names[ticker]):\n",
    "        tsx_names[ticker] = tsx_names[ticker].replace('.', '-')\n",
    "    else:\n",
    "        tsx_names[ticker] = tsx_names[ticker]"
   ]
  },
  {
   "cell_type": "code",
   "execution_count": 4,
   "id": "2ab55e6d",
   "metadata": {},
   "outputs": [],
   "source": [
    "# Adding '.TO' to the ending of each ticker to ensure all currency information received comes in CND.\n",
    "TO = '.TO'\n",
    "\n",
    "tsx_names_TO = []\n",
    "for ticker in tsx_names:\n",
    "    tsx_names_TO.append(str(ticker) + TO)\n",
    "    \n",
    "tsx_names = pd.Series(tsx_names_TO)"
   ]
  },
  {
   "cell_type": "markdown",
   "id": "fc2c9d96",
   "metadata": {},
   "source": [
    "### Gathering quote data from companies"
   ]
  },
  {
   "cell_type": "code",
   "execution_count": null,
   "id": "2310dbc3",
   "metadata": {},
   "outputs": [],
   "source": [
    "# This searches and gets the stock quote data from yahoo finance.\n",
    "dict1 = get_quote_data('TIH.TO')\n",
    "dict2 = get_quote_data('AQN.TO')\n",
    "dict3 = get_quote_data('BNS.TO')\n",
    "\n",
    "# This takes the quote dictionaries and converts them into a DataFrame.\n",
    "df1 = pd.DataFrame(dict1, index=['TIH.TO'])\n",
    "df2 = pd.DataFrame(dict2, index=['AQN.TO'])\n",
    "df3 = pd.DataFrame(dict3, index=['BNS.TO'])\n",
    "\n",
    "# Empty DataFram to append all of the quotes acquired. \n",
    "dfFinal = pd.DataFrame()\n",
    "\n",
    "# Appending the quotes acquired.\n",
    "dfFinal = dfFinal.append(df1)\n",
    "dfFinal = dfFinal.append(df2)\n",
    "dfFinal = dfFinal.append(df3)\n",
    "\n",
    "dfFinal\n",
    "\n",
    "# df[['epsCurrentYear','sharesOutstanding']]  # This works for selecting columns\n",
    "\n",
    "### Whats next?\n",
    "### Now iterate this with all the tickers, and add them as a new row into a DataFrame."
   ]
  },
  {
   "cell_type": "code",
   "execution_count": null,
   "id": "741ee7f0",
   "metadata": {},
   "outputs": [],
   "source": [
    "get_quote_data('AP-UN.TO')"
   ]
  },
  {
   "cell_type": "code",
   "execution_count": 12,
   "id": "55775abb",
   "metadata": {
    "scrolled": true
   },
   "outputs": [
    {
     "ename": "IndexError",
     "evalue": "list index out of range",
     "output_type": "error",
     "traceback": [
      "\u001b[1;31m---------------------------------------------------------------------------\u001b[0m",
      "\u001b[1;31mIndexError\u001b[0m                                Traceback (most recent call last)",
      "\u001b[1;32m<ipython-input-12-292b475c097f>\u001b[0m in \u001b[0;36m<module>\u001b[1;34m\u001b[0m\n\u001b[0;32m      2\u001b[0m \u001b[1;33m\u001b[0m\u001b[0m\n\u001b[0;32m      3\u001b[0m \u001b[1;32mfor\u001b[0m \u001b[0mticker\u001b[0m \u001b[1;32min\u001b[0m \u001b[0mtsx_names\u001b[0m\u001b[1;33m:\u001b[0m\u001b[1;33m\u001b[0m\u001b[1;33m\u001b[0m\u001b[0m\n\u001b[1;32m----> 4\u001b[1;33m     \u001b[0mtickerDict\u001b[0m \u001b[1;33m=\u001b[0m \u001b[0mget_quote_data\u001b[0m\u001b[1;33m(\u001b[0m\u001b[0mstr\u001b[0m\u001b[1;33m(\u001b[0m\u001b[0mticker\u001b[0m\u001b[1;33m)\u001b[0m\u001b[1;33m)\u001b[0m\u001b[1;33m\u001b[0m\u001b[1;33m\u001b[0m\u001b[0m\n\u001b[0m\u001b[0;32m      5\u001b[0m     \u001b[0mtickerdf\u001b[0m \u001b[1;33m=\u001b[0m \u001b[0mpd\u001b[0m\u001b[1;33m.\u001b[0m\u001b[0mDataFrame\u001b[0m\u001b[1;33m(\u001b[0m\u001b[0mtickerDict\u001b[0m\u001b[1;33m,\u001b[0m \u001b[0mindex\u001b[0m\u001b[1;33m=\u001b[0m\u001b[1;33m[\u001b[0m\u001b[0mstr\u001b[0m\u001b[1;33m(\u001b[0m\u001b[0mticker\u001b[0m\u001b[1;33m)\u001b[0m\u001b[1;33m]\u001b[0m\u001b[1;33m)\u001b[0m\u001b[1;33m\u001b[0m\u001b[1;33m\u001b[0m\u001b[0m\n\u001b[0;32m      6\u001b[0m     \u001b[0mdf\u001b[0m\u001b[1;33m.\u001b[0m\u001b[0mappend\u001b[0m\u001b[1;33m(\u001b[0m\u001b[0mtickerdf\u001b[0m\u001b[1;33m)\u001b[0m\u001b[1;33m\u001b[0m\u001b[1;33m\u001b[0m\u001b[0m\n",
      "\u001b[1;32m~\\Anaconda3\\envs\\TSXStockClustering\\lib\\site-packages\\yahoo_fin\\stock_info.py\u001b[0m in \u001b[0;36mget_quote_data\u001b[1;34m(ticker)\u001b[0m\n\u001b[0;32m    931\u001b[0m     \u001b[0minfo\u001b[0m \u001b[1;33m=\u001b[0m \u001b[0mjson_result\u001b[0m\u001b[1;33m[\u001b[0m\u001b[1;34m\"quoteResponse\"\u001b[0m\u001b[1;33m]\u001b[0m\u001b[1;33m[\u001b[0m\u001b[1;34m\"result\"\u001b[0m\u001b[1;33m]\u001b[0m\u001b[1;33m\u001b[0m\u001b[1;33m\u001b[0m\u001b[0m\n\u001b[0;32m    932\u001b[0m \u001b[1;33m\u001b[0m\u001b[0m\n\u001b[1;32m--> 933\u001b[1;33m     \u001b[1;32mreturn\u001b[0m \u001b[0minfo\u001b[0m\u001b[1;33m[\u001b[0m\u001b[1;36m0\u001b[0m\u001b[1;33m]\u001b[0m\u001b[1;33m\u001b[0m\u001b[1;33m\u001b[0m\u001b[0m\n\u001b[0m\u001b[0;32m    934\u001b[0m \u001b[1;33m\u001b[0m\u001b[0m\n\u001b[0;32m    935\u001b[0m \u001b[1;33m\u001b[0m\u001b[0m\n",
      "\u001b[1;31mIndexError\u001b[0m: list index out of range"
     ]
    }
   ],
   "source": [
    "df = pd.DataFrame()\n",
    "\n",
    "for ticker in tsx_names:\n",
    "    tickerDict = get_quote_data(str(ticker))\n",
    "    tickerdf = pd.DataFrame(tickerDict, index=[str(ticker)])\n",
    "    df.append(tickerdf)\n",
    "    \n",
    "df"
   ]
  },
  {
   "cell_type": "code",
   "execution_count": null,
   "id": "f39bdbcd",
   "metadata": {},
   "outputs": [],
   "source": []
  },
  {
   "cell_type": "code",
   "execution_count": null,
   "id": "3614f737",
   "metadata": {},
   "outputs": [],
   "source": []
  },
  {
   "cell_type": "code",
   "execution_count": null,
   "id": "4fea3bf3",
   "metadata": {},
   "outputs": [],
   "source": []
  },
  {
   "cell_type": "code",
   "execution_count": null,
   "id": "bd2fc31f",
   "metadata": {},
   "outputs": [],
   "source": []
  },
  {
   "cell_type": "code",
   "execution_count": null,
   "id": "4f140ea8",
   "metadata": {},
   "outputs": [],
   "source": []
  },
  {
   "cell_type": "code",
   "execution_count": null,
   "id": "c589a595",
   "metadata": {},
   "outputs": [],
   "source": []
  },
  {
   "cell_type": "code",
   "execution_count": null,
   "id": "3f7d3317",
   "metadata": {},
   "outputs": [],
   "source": []
  },
  {
   "cell_type": "code",
   "execution_count": null,
   "id": "b466f3f9",
   "metadata": {},
   "outputs": [],
   "source": []
  },
  {
   "cell_type": "code",
   "execution_count": null,
   "id": "6438bb07",
   "metadata": {},
   "outputs": [],
   "source": []
  }
 ],
 "metadata": {
  "kernelspec": {
   "display_name": "TSXStockClustering",
   "language": "python",
   "name": "tsxstockclustering"
  },
  "language_info": {
   "codemirror_mode": {
    "name": "ipython",
    "version": 3
   },
   "file_extension": ".py",
   "mimetype": "text/x-python",
   "name": "python",
   "nbconvert_exporter": "python",
   "pygments_lexer": "ipython3",
   "version": "3.9.4"
  }
 },
 "nbformat": 4,
 "nbformat_minor": 5
}
