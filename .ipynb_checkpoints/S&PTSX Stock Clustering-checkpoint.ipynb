{
 "cells": [
  {
   "cell_type": "code",
   "execution_count": 7,
   "id": "ef1c5a82",
   "metadata": {},
   "outputs": [],
   "source": [
    "from yahoo_fin.stock_info import *"
   ]
  },
  {
   "cell_type": "code",
   "execution_count": 9,
   "id": "91a60ba9",
   "metadata": {},
   "outputs": [
    {
     "data": {
      "text/plain": [
       "{'Earnings Estimate':   Earnings Estimate  Current Qtr. (Mar 2021)  Next Qtr. (Jun 2021)  \\\n",
       " 0   No. of Analysts                     7.00                  7.00   \n",
       " 1     Avg. Estimate                     0.49                  0.97   \n",
       " 2      Low Estimate                     0.45                  0.91   \n",
       " 3     High Estimate                     0.54                  1.01   \n",
       " 4      Year Ago EPS                     0.45                  0.62   \n",
       " \n",
       "    Current Year (2021)  Next Year (2022)  \n",
       " 0                 9.00              9.00  \n",
       " 1                 3.76              4.32  \n",
       " 2                 3.65              4.20  \n",
       " 3                 3.87              4.52  \n",
       " 4                 3.09              3.76  ,\n",
       " 'Revenue Estimate':           Revenue Estimate Current Qtr. (Mar 2021) Next Qtr. (Jun 2021)  \\\n",
       " 0          No. of Analysts                       6                    5   \n",
       " 1            Avg. Estimate                 737.66M              981.08M   \n",
       " 2             Low Estimate                 716.93M                 956M   \n",
       " 3            High Estimate                    755M                1.02B   \n",
       " 4           Year Ago Sales                 715.46M               849.6M   \n",
       " 5  Sales Growth (year/est)                   3.10%               15.50%   \n",
       " \n",
       "   Current Year (2021) Next Year (2022)  \n",
       " 0                   9                8  \n",
       " 1               3.79B            4.09B  \n",
       " 2               3.72B            4.01B  \n",
       " 3               3.89B            4.27B  \n",
       " 4               3.48B            3.79B  \n",
       " 5               8.90%            7.80%  ,\n",
       " 'Earnings History':   Earnings History 3/30/2020 6/29/2020 9/29/2020 12/30/2020\n",
       " 0         EPS Est.      0.49      0.63      0.83       1.05\n",
       " 1       EPS Actual      0.45      0.62      0.94       1.07\n",
       " 2       Difference     -0.04     -0.01      0.11       0.02\n",
       " 3       Surprise %    -8.20%    -1.60%    13.30%      1.90%,\n",
       " 'EPS Trend':           EPS Trend  Current Qtr. (Mar 2021)  Next Qtr. (Jun 2021)  \\\n",
       " 0  Current Estimate                     0.49                  0.97   \n",
       " 1        7 Days Ago                     0.49                  0.97   \n",
       " 2       30 Days Ago                     0.48                  0.97   \n",
       " 3       60 Days Ago                     0.48                  0.97   \n",
       " 4       90 Days Ago                     0.50                  0.97   \n",
       " \n",
       "    Current Year (2021)  Next Year (2022)  \n",
       " 0                 3.76              4.32  \n",
       " 1                 3.76              4.32  \n",
       " 2                 3.75              4.29  \n",
       " 3                 3.73              4.26  \n",
       " 4                 3.72              4.29  ,\n",
       " 'EPS Revisions':        EPS Revisions  Current Qtr. (Mar 2021)  Next Qtr. (Jun 2021)  \\\n",
       " 0     Up Last 7 Days                      NaN                   NaN   \n",
       " 1    Up Last 30 Days                      1.0                   NaN   \n",
       " 2   Down Last 7 Days                      NaN                   NaN   \n",
       " 3  Down Last 30 Days                      NaN                   NaN   \n",
       " \n",
       "    Current Year (2021)  Next Year (2022)  \n",
       " 0                  NaN               NaN  \n",
       " 1                  1.0               1.0  \n",
       " 2                  NaN               NaN  \n",
       " 3                  NaN               NaN  ,\n",
       " 'Growth Estimates':            Growth Estimates  TIH.TO  Industry  Sector(s)  S&P 500\n",
       " 0              Current Qtr.   8.90%       NaN        NaN      NaN\n",
       " 1                 Next Qtr.  56.50%       NaN        NaN      NaN\n",
       " 2              Current Year  21.70%       NaN        NaN      NaN\n",
       " 3                 Next Year  14.90%       NaN        NaN      NaN\n",
       " 4  Next 5 Years (per annum)   4.31%       NaN        NaN      NaN\n",
       " 5  Past 5 Years (per annum)  14.98%       NaN        NaN      NaN}"
      ]
     },
     "execution_count": 9,
     "metadata": {},
     "output_type": "execute_result"
    }
   ],
   "source": []
  }
 ],
 "metadata": {
  "kernelspec": {
   "display_name": "TSXStockClustering",
   "language": "python",
   "name": "tsxstockclustering"
  },
  "language_info": {
   "codemirror_mode": {
    "name": "ipython",
    "version": 3
   },
   "file_extension": ".py",
   "mimetype": "text/x-python",
   "name": "python",
   "nbconvert_exporter": "python",
   "pygments_lexer": "ipython3",
   "version": "3.9.4"
  }
 },
 "nbformat": 4,
 "nbformat_minor": 5
}
